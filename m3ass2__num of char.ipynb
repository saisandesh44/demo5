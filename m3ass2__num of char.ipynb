{
 "cells": [
  {
   "cell_type": "code",
   "execution_count": 6,
   "metadata": {},
   "outputs": [
    {
     "name": "stdout",
     "output_type": "stream",
     "text": [
      "good evening\n",
      "Total number of characters in a string: 11\n"
     ]
    }
   ],
   "source": [
    "string=input()\n",
    "count = 0;  \n",
    "for i in range(0, len(string)):  \n",
    "    if(string[i] != ' ' ):  \n",
    "        count = count + 1;  \n",
    "\n",
    "print(\"Total number of characters in a string: \" + str(count))"
   ]
  }
 ],
 "metadata": {
  "kernelspec": {
   "display_name": "Python 3",
   "language": "python",
   "name": "python3"
  },
  "language_info": {
   "codemirror_mode": {
    "name": "ipython",
    "version": 3
   },
   "file_extension": ".py",
   "mimetype": "text/x-python",
   "name": "python",
   "nbconvert_exporter": "python",
   "pygments_lexer": "ipython3",
   "version": "3.8.3"
  }
 },
 "nbformat": 4,
 "nbformat_minor": 4
}
